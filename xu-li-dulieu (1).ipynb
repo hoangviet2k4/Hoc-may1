{
 "cells": [
  {
   "cell_type": "code",
   "execution_count": 163,
   "id": "55fafb77-2ce0-4411-8b9d-96b360115d02",
   "metadata": {},
   "outputs": [],
   "source": [
    "import pandas as pd\n",
    "import numpy as np "
   ]
  },
  {
   "cell_type": "code",
   "execution_count": 179,
   "id": "7e6e9fa4-f52d-45bf-a101-08e1d6044849",
   "metadata": {},
   "outputs": [],
   "source": [
    "import matplotlib.pyplot as plt\n",
    "import seaborn as sns\n",
    "import os"
   ]
  },
  {
   "cell_type": "markdown",
   "id": "3a81ac38-3176-404b-ba16-d81859c5f316",
   "metadata": {},
   "source": [
    "## Import Dataset\n"
   ]
  },
  {
   "cell_type": "code",
   "execution_count": 180,
   "id": "2a5a43be-336e-4efe-8ac1-8ef21276f162",
   "metadata": {},
   "outputs": [],
   "source": [
    "data_df = pd.read_csv(\"./PycharmProjects/Temperature.csv\")"
   ]
  },
  {
   "cell_type": "code",
   "execution_count": 181,
   "id": "f5c03fc5-e10f-4fe9-9f65-1581eb7225e2",
   "metadata": {},
   "outputs": [
    {
     "data": {
      "text/html": [
       "<div>\n",
       "<style scoped>\n",
       "    .dataframe tbody tr th:only-of-type {\n",
       "        vertical-align: middle;\n",
       "    }\n",
       "\n",
       "    .dataframe tbody tr th {\n",
       "        vertical-align: top;\n",
       "    }\n",
       "\n",
       "    .dataframe thead th {\n",
       "        text-align: right;\n",
       "    }\n",
       "</style>\n",
       "<table border=\"1\" class=\"dataframe\">\n",
       "  <thead>\n",
       "    <tr style=\"text-align: right;\">\n",
       "      <th></th>\n",
       "      <th>Year</th>\n",
       "      <th>Month</th>\n",
       "      <th>Season</th>\n",
       "      <th>Salinity</th>\n",
       "      <th>Temperature</th>\n",
       "      <th>CHLFa</th>\n",
       "    </tr>\n",
       "  </thead>\n",
       "  <tbody>\n",
       "    <tr>\n",
       "      <th>0</th>\n",
       "      <td>1990</td>\n",
       "      <td>1</td>\n",
       "      <td>winter</td>\n",
       "      <td>29.19</td>\n",
       "      <td>4.0</td>\n",
       "      <td>1.3</td>\n",
       "    </tr>\n",
       "    <tr>\n",
       "      <th>1</th>\n",
       "      <td>1990</td>\n",
       "      <td>2</td>\n",
       "      <td>winter</td>\n",
       "      <td>27.37</td>\n",
       "      <td>6.0</td>\n",
       "      <td>NaN</td>\n",
       "    </tr>\n",
       "    <tr>\n",
       "      <th>2</th>\n",
       "      <td>1990</td>\n",
       "      <td>3</td>\n",
       "      <td>spring</td>\n",
       "      <td>24.99</td>\n",
       "      <td>7.3</td>\n",
       "      <td>21.1</td>\n",
       "    </tr>\n",
       "    <tr>\n",
       "      <th>3</th>\n",
       "      <td>1990</td>\n",
       "      <td>4</td>\n",
       "      <td>spring</td>\n",
       "      <td>28.79</td>\n",
       "      <td>8.2</td>\n",
       "      <td>25.0</td>\n",
       "    </tr>\n",
       "    <tr>\n",
       "      <th>4</th>\n",
       "      <td>1990</td>\n",
       "      <td>5</td>\n",
       "      <td>spring</td>\n",
       "      <td>33.28</td>\n",
       "      <td>17.4</td>\n",
       "      <td>10.2</td>\n",
       "    </tr>\n",
       "  </tbody>\n",
       "</table>\n",
       "</div>"
      ],
      "text/plain": [
       "   Year  Month  Season  Salinity  Temperature  CHLFa\n",
       "0  1990      1  winter     29.19          4.0    1.3\n",
       "1  1990      2  winter     27.37          6.0    NaN\n",
       "2  1990      3  spring     24.99          7.3   21.1\n",
       "3  1990      4  spring     28.79          8.2   25.0\n",
       "4  1990      5  spring     33.28         17.4   10.2"
      ]
     },
     "execution_count": 181,
     "metadata": {},
     "output_type": "execute_result"
    }
   ],
   "source": [
    "data_df.head()"
   ]
  },
  {
   "cell_type": "markdown",
   "id": "c2832d14-48d5-4baf-9570-06cb0b95970e",
   "metadata": {},
   "source": [
    "## Data Imputation (Missing Data Replacement)"
   ]
  },
  {
   "cell_type": "code",
   "execution_count": 182,
   "id": "7e9c7792-197f-4b5c-823b-9c13e38f0f95",
   "metadata": {},
   "outputs": [
    {
     "name": "stdout",
     "output_type": "stream",
     "text": [
      "<class 'pandas.core.frame.DataFrame'>\n",
      "RangeIndex: 8528 entries, 0 to 8527\n",
      "Data columns (total 6 columns):\n",
      " #   Column       Non-Null Count  Dtype  \n",
      "---  ------       --------------  -----  \n",
      " 0   Year         8528 non-null   int64  \n",
      " 1   Month        8528 non-null   int64  \n",
      " 2   Season       8528 non-null   object \n",
      " 3   Salinity     7730 non-null   float64\n",
      " 4   Temperature  7601 non-null   float64\n",
      " 5   CHLFa        7715 non-null   float64\n",
      "dtypes: float64(3), int64(2), object(1)\n",
      "memory usage: 399.9+ KB\n"
     ]
    }
   ],
   "source": [
    "data_df.info()"
   ]
  },
  {
   "cell_type": "code",
   "execution_count": 183,
   "id": "d5198413-4f0d-4a07-8660-fd1811b00f2f",
   "metadata": {},
   "outputs": [
    {
     "data": {
      "text/plain": [
       "2538"
      ]
     },
     "execution_count": 183,
     "metadata": {},
     "output_type": "execute_result"
    }
   ],
   "source": [
    "data_df.isnull().sum().sum()"
   ]
  },
  {
   "cell_type": "code",
   "execution_count": 184,
   "id": "3a7212a4-7407-4c18-b10f-a1b1d1fc5af9",
   "metadata": {},
   "outputs": [
    {
     "data": {
      "text/plain": [
       "Year             0\n",
       "Month            0\n",
       "Season           0\n",
       "Salinity       798\n",
       "Temperature    927\n",
       "CHLFa          813\n",
       "dtype: int64"
      ]
     },
     "execution_count": 184,
     "metadata": {},
     "output_type": "execute_result"
    }
   ],
   "source": [
    "data_df.isnull().sum()"
   ]
  },
  {
   "cell_type": "code",
   "execution_count": 185,
   "id": "b67931df-8248-4d08-9840-a02d56f1d910",
   "metadata": {},
   "outputs": [
    {
     "data": {
      "image/png": "[encoded data removed]",
      "text/plain": [
       "<Figure size 1000x800 with 1 Axes>"
      ]
     },
     "metadata": {},
     "output_type": "display_data"
    }
   ],
   "source": [
    "fig, ax = plt.subplots(figsize=(10,8))\n",
    "sns.heatmap(data_df.isna(), cmap=\"Blues\", cbar=False, yticklabels=False);"
   ]
  },
  {
   "cell_type": "code",
   "execution_count": 186,
   "id": "e721fe65-09b8-435f-a98e-99a7ff20ddfe",
   "metadata": {},
   "outputs": [
    {
     "data": {
      "text/html": [
       "<div>\n",
       "<style scoped>\n",
       "    .dataframe tbody tr th:only-of-type {\n",
       "        vertical-align: middle;\n",
       "    }\n",
       "\n",
       "    .dataframe tbody tr th {\n",
       "        vertical-align: top;\n",
       "    }\n",
       "\n",
       "    .dataframe thead th {\n",
       "        text-align: right;\n",
       "    }\n",
       "</style>\n",
       "<table border=\"1\" class=\"dataframe\">\n",
       "  <thead>\n",
       "    <tr style=\"text-align: right;\">\n",
       "      <th></th>\n",
       "      <th>Year</th>\n",
       "      <th>Month</th>\n",
       "      <th>Season</th>\n",
       "      <th>Salinity</th>\n",
       "      <th>Temperature</th>\n",
       "      <th>CHLFa</th>\n",
       "    </tr>\n",
       "  </thead>\n",
       "  <tbody>\n",
       "    <tr>\n",
       "      <th>1</th>\n",
       "      <td>1990</td>\n",
       "      <td>2</td>\n",
       "      <td>winter</td>\n",
       "      <td>27.37</td>\n",
       "      <td>6.00</td>\n",
       "      <td>NaN</td>\n",
       "    </tr>\n",
       "    <tr>\n",
       "      <th>75</th>\n",
       "      <td>1994</td>\n",
       "      <td>10</td>\n",
       "      <td>autumn</td>\n",
       "      <td>27.49</td>\n",
       "      <td>9.00</td>\n",
       "      <td>NaN</td>\n",
       "    </tr>\n",
       "    <tr>\n",
       "      <th>86</th>\n",
       "      <td>1995</td>\n",
       "      <td>8</td>\n",
       "      <td>summer</td>\n",
       "      <td>NaN</td>\n",
       "      <td>NaN</td>\n",
       "      <td>15.1</td>\n",
       "    </tr>\n",
       "    <tr>\n",
       "      <th>92</th>\n",
       "      <td>1996</td>\n",
       "      <td>2</td>\n",
       "      <td>winter</td>\n",
       "      <td>NaN</td>\n",
       "      <td>NaN</td>\n",
       "      <td>NaN</td>\n",
       "    </tr>\n",
       "    <tr>\n",
       "      <th>125</th>\n",
       "      <td>1997</td>\n",
       "      <td>9</td>\n",
       "      <td>autumn</td>\n",
       "      <td>31.13</td>\n",
       "      <td>14.80</td>\n",
       "      <td>NaN</td>\n",
       "    </tr>\n",
       "    <tr>\n",
       "      <th>...</th>\n",
       "      <td>...</td>\n",
       "      <td>...</td>\n",
       "      <td>...</td>\n",
       "      <td>...</td>\n",
       "      <td>...</td>\n",
       "      <td>...</td>\n",
       "    </tr>\n",
       "    <tr>\n",
       "      <th>8497</th>\n",
       "      <td>2004</td>\n",
       "      <td>8</td>\n",
       "      <td>summer</td>\n",
       "      <td>NaN</td>\n",
       "      <td>NaN</td>\n",
       "      <td>16.2</td>\n",
       "    </tr>\n",
       "    <tr>\n",
       "      <th>8498</th>\n",
       "      <td>2004</td>\n",
       "      <td>8</td>\n",
       "      <td>summer</td>\n",
       "      <td>29.07</td>\n",
       "      <td>20.67</td>\n",
       "      <td>NaN</td>\n",
       "    </tr>\n",
       "    <tr>\n",
       "      <th>8503</th>\n",
       "      <td>2004</td>\n",
       "      <td>10</td>\n",
       "      <td>autumn</td>\n",
       "      <td>NaN</td>\n",
       "      <td>NaN</td>\n",
       "      <td>NaN</td>\n",
       "    </tr>\n",
       "    <tr>\n",
       "      <th>8521</th>\n",
       "      <td>2005</td>\n",
       "      <td>9</td>\n",
       "      <td>autumn</td>\n",
       "      <td>29.61</td>\n",
       "      <td>17.87</td>\n",
       "      <td>NaN</td>\n",
       "    </tr>\n",
       "    <tr>\n",
       "      <th>8522</th>\n",
       "      <td>2005</td>\n",
       "      <td>9</td>\n",
       "      <td>autumn</td>\n",
       "      <td>NaN</td>\n",
       "      <td>NaN</td>\n",
       "      <td>10.8</td>\n",
       "    </tr>\n",
       "  </tbody>\n",
       "</table>\n",
       "<p>1244 rows × 6 columns</p>\n",
       "</div>"
      ],
      "text/plain": [
       "      Year  Month  Season  Salinity  Temperature  CHLFa\n",
       "1     1990      2  winter     27.37         6.00    NaN\n",
       "75    1994     10  autumn     27.49         9.00    NaN\n",
       "86    1995      8  summer       NaN          NaN   15.1\n",
       "92    1996      2  winter       NaN          NaN    NaN\n",
       "125   1997      9  autumn     31.13        14.80    NaN\n",
       "...    ...    ...     ...       ...          ...    ...\n",
       "8497  2004      8  summer       NaN          NaN   16.2\n",
       "8498  2004      8  summer     29.07        20.67    NaN\n",
       "8503  2004     10  autumn       NaN          NaN    NaN\n",
       "8521  2005      9  autumn     29.61        17.87    NaN\n",
       "8522  2005      9  autumn       NaN          NaN   10.8\n",
       "\n",
       "[1244 rows x 6 columns]"
      ]
     },
     "execution_count": 186,
     "metadata": {},
     "output_type": "execute_result"
    }
   ],
   "source": [
    "data_df[pd.isnull(data_df).any(axis=1)]"
   ]
  },
  {
   "cell_type": "code",
   "execution_count": 187,
   "id": "112640de-42a6-4237-b945-778c9a69b09d",
   "metadata": {},
   "outputs": [],
   "source": [
    "data_df.Salinity.fillna(data_df.Salinity.mean(), inplace=True)\n",
    "data_df.Temperature.fillna(data_df.CHLFa.mean(), inplace=True)\n",
    "data_df.CHLFa.fillna(data_df.CHLFa.mean(), inplace=True)"
   ]
  },
  {
   "cell_type": "code",
   "execution_count": 188,
   "id": "31891a6b-8132-4939-9aeb-daa543ad1476",
   "metadata": {},
   "outputs": [
    {
     "data": {
      "text/plain": [
       "Year           0\n",
       "Month          0\n",
       "Season         0\n",
       "Salinity       0\n",
       "Temperature    0\n",
       "CHLFa          0\n",
       "dtype: int64"
      ]
     },
     "execution_count": 188,
     "metadata": {},
     "output_type": "execute_result"
    }
   ],
   "source": [
    "data_df.isnull().sum()"
   ]
  },
  {
   "cell_type": "code",
   "execution_count": 189,
   "id": "fa89a2ab-fef9-4857-a02e-fa74e84b4767",
   "metadata": {},
   "outputs": [
    {
     "data": {
      "text/html": [
       "<div>\n",
       "<style scoped>\n",
       "    .dataframe tbody tr th:only-of-type {\n",
       "        vertical-align: middle;\n",
       "    }\n",
       "\n",
       "    .dataframe tbody tr th {\n",
       "        vertical-align: top;\n",
       "    }\n",
       "\n",
       "    .dataframe thead th {\n",
       "        text-align: right;\n",
       "    }\n",
       "</style>\n",
       "<table border=\"1\" class=\"dataframe\">\n",
       "  <thead>\n",
       "    <tr style=\"text-align: right;\">\n",
       "      <th></th>\n",
       "      <th>Year</th>\n",
       "      <th>Month</th>\n",
       "      <th>Season</th>\n",
       "      <th>Salinity</th>\n",
       "      <th>Temperature</th>\n",
       "      <th>CHLFa</th>\n",
       "    </tr>\n",
       "  </thead>\n",
       "  <tbody>\n",
       "    <tr>\n",
       "      <th>0</th>\n",
       "      <td>1990</td>\n",
       "      <td>1</td>\n",
       "      <td>winter</td>\n",
       "      <td>29.19</td>\n",
       "      <td>4.00</td>\n",
       "      <td>1.300000</td>\n",
       "    </tr>\n",
       "    <tr>\n",
       "      <th>1</th>\n",
       "      <td>1990</td>\n",
       "      <td>2</td>\n",
       "      <td>winter</td>\n",
       "      <td>27.37</td>\n",
       "      <td>6.00</td>\n",
       "      <td>6.960299</td>\n",
       "    </tr>\n",
       "    <tr>\n",
       "      <th>2</th>\n",
       "      <td>1990</td>\n",
       "      <td>3</td>\n",
       "      <td>spring</td>\n",
       "      <td>24.99</td>\n",
       "      <td>7.30</td>\n",
       "      <td>21.100000</td>\n",
       "    </tr>\n",
       "    <tr>\n",
       "      <th>3</th>\n",
       "      <td>1990</td>\n",
       "      <td>4</td>\n",
       "      <td>spring</td>\n",
       "      <td>28.79</td>\n",
       "      <td>8.20</td>\n",
       "      <td>25.000000</td>\n",
       "    </tr>\n",
       "    <tr>\n",
       "      <th>4</th>\n",
       "      <td>1990</td>\n",
       "      <td>5</td>\n",
       "      <td>spring</td>\n",
       "      <td>33.28</td>\n",
       "      <td>17.40</td>\n",
       "      <td>10.200000</td>\n",
       "    </tr>\n",
       "    <tr>\n",
       "      <th>...</th>\n",
       "      <td>...</td>\n",
       "      <td>...</td>\n",
       "      <td>...</td>\n",
       "      <td>...</td>\n",
       "      <td>...</td>\n",
       "      <td>...</td>\n",
       "    </tr>\n",
       "    <tr>\n",
       "      <th>8523</th>\n",
       "      <td>2005</td>\n",
       "      <td>9</td>\n",
       "      <td>autumn</td>\n",
       "      <td>30.91</td>\n",
       "      <td>15.47</td>\n",
       "      <td>11.400000</td>\n",
       "    </tr>\n",
       "    <tr>\n",
       "      <th>8524</th>\n",
       "      <td>2005</td>\n",
       "      <td>10</td>\n",
       "      <td>autumn</td>\n",
       "      <td>31.18</td>\n",
       "      <td>13.45</td>\n",
       "      <td>8.300000</td>\n",
       "    </tr>\n",
       "    <tr>\n",
       "      <th>8525</th>\n",
       "      <td>2005</td>\n",
       "      <td>10</td>\n",
       "      <td>autumn</td>\n",
       "      <td>28.67</td>\n",
       "      <td>12.09</td>\n",
       "      <td>4.560000</td>\n",
       "    </tr>\n",
       "    <tr>\n",
       "      <th>8526</th>\n",
       "      <td>2005</td>\n",
       "      <td>11</td>\n",
       "      <td>autumn</td>\n",
       "      <td>29.53</td>\n",
       "      <td>9.03</td>\n",
       "      <td>4.940000</td>\n",
       "    </tr>\n",
       "    <tr>\n",
       "      <th>8527</th>\n",
       "      <td>2005</td>\n",
       "      <td>12</td>\n",
       "      <td>winter</td>\n",
       "      <td>29.08</td>\n",
       "      <td>5.13</td>\n",
       "      <td>2.380000</td>\n",
       "    </tr>\n",
       "  </tbody>\n",
       "</table>\n",
       "<p>8528 rows × 6 columns</p>\n",
       "</div>"
      ],
      "text/plain": [
       "      Year  Month  Season  Salinity  Temperature      CHLFa\n",
       "0     1990      1  winter     29.19         4.00   1.300000\n",
       "1     1990      2  winter     27.37         6.00   6.960299\n",
       "2     1990      3  spring     24.99         7.30  21.100000\n",
       "3     1990      4  spring     28.79         8.20  25.000000\n",
       "4     1990      5  spring     33.28        17.40  10.200000\n",
       "...    ...    ...     ...       ...          ...        ...\n",
       "8523  2005      9  autumn     30.91        15.47  11.400000\n",
       "8524  2005     10  autumn     31.18        13.45   8.300000\n",
       "8525  2005     10  autumn     28.67        12.09   4.560000\n",
       "8526  2005     11  autumn     29.53         9.03   4.940000\n",
       "8527  2005     12  winter     29.08         5.13   2.380000\n",
       "\n",
       "[8528 rows x 6 columns]"
      ]
     },
     "execution_count": 189,
     "metadata": {},
     "output_type": "execute_result"
    }
   ],
   "source": [
    "data_df"
   ]
  },
  {
   "cell_type": "code",
   "execution_count": 245,
   "id": "631cd40c-6cb6-4a73-bfda-a08fd4ef21dc",
   "metadata": {},
   "outputs": [
    {
     "data": {
      "text/plain": [
       "<Axes: >"
      ]
     },
     "execution_count": 245,
     "metadata": {},
     "output_type": "execute_result"
    },
    {
     "data": {
      "image/png": "[encoded data removed]",
      "text/plain": [
       "<Figure size 640x480 with 1 Axes>"
      ]
     },
     "metadata": {},
     "output_type": "display_data"
    }
   ],
   "source": [
    "data_df[['Month', 'Year']].plot(kind='box')"
   ]
  },
  {
   "cell_type": "code",
   "execution_count": 246,
   "id": "b7a3f0e8-d7a4-4441-b0a0-28da633cddd9",
   "metadata": {},
   "outputs": [],
   "source": [
    "df=data_df[['Month', 'Year']]"
   ]
  },
  {
   "cell_type": "code",
   "execution_count": 247,
   "id": "3ae10b3d-6dda-4f13-99d2-1c1dac0c115e",
   "metadata": {},
   "outputs": [],
   "source": [
    "from sklearn.preprocessing import MinMaxScaler\n",
    "mms = MinMaxScaler()\n",
    "mms.fit(df)\n",
    "data_mms = mms.transform(df)"
   ]
  },
  {
   "cell_type": "code",
   "execution_count": 248,
   "id": "d92c9b9b-b9d7-4be7-bddf-232eca19578b",
   "metadata": {},
   "outputs": [
    {
     "data": {
      "text/html": [
       "<div>\n",
       "<style scoped>\n",
       "    .dataframe tbody tr th:only-of-type {\n",
       "        vertical-align: middle;\n",
       "    }\n",
       "\n",
       "    .dataframe tbody tr th {\n",
       "        vertical-align: top;\n",
       "    }\n",
       "\n",
       "    .dataframe thead th {\n",
       "        text-align: right;\n",
       "    }\n",
       "</style>\n",
       "<table border=\"1\" class=\"dataframe\">\n",
       "  <thead>\n",
       "    <tr style=\"text-align: right;\">\n",
       "      <th></th>\n",
       "      <th>Month</th>\n",
       "      <th>Year</th>\n",
       "    </tr>\n",
       "  </thead>\n",
       "  <tbody>\n",
       "    <tr>\n",
       "      <th>0</th>\n",
       "      <td>0.000000</td>\n",
       "      <td>0.0</td>\n",
       "    </tr>\n",
       "    <tr>\n",
       "      <th>1</th>\n",
       "      <td>0.090909</td>\n",
       "      <td>0.0</td>\n",
       "    </tr>\n",
       "    <tr>\n",
       "      <th>2</th>\n",
       "      <td>0.181818</td>\n",
       "      <td>0.0</td>\n",
       "    </tr>\n",
       "    <tr>\n",
       "      <th>3</th>\n",
       "      <td>0.272727</td>\n",
       "      <td>0.0</td>\n",
       "    </tr>\n",
       "    <tr>\n",
       "      <th>4</th>\n",
       "      <td>0.363636</td>\n",
       "      <td>0.0</td>\n",
       "    </tr>\n",
       "    <tr>\n",
       "      <th>5</th>\n",
       "      <td>0.454545</td>\n",
       "      <td>0.0</td>\n",
       "    </tr>\n",
       "    <tr>\n",
       "      <th>6</th>\n",
       "      <td>0.545455</td>\n",
       "      <td>0.0</td>\n",
       "    </tr>\n",
       "    <tr>\n",
       "      <th>7</th>\n",
       "      <td>0.636364</td>\n",
       "      <td>0.0</td>\n",
       "    </tr>\n",
       "    <tr>\n",
       "      <th>8</th>\n",
       "      <td>0.727273</td>\n",
       "      <td>0.0</td>\n",
       "    </tr>\n",
       "    <tr>\n",
       "      <th>9</th>\n",
       "      <td>0.818182</td>\n",
       "      <td>0.0</td>\n",
       "    </tr>\n",
       "  </tbody>\n",
       "</table>\n",
       "</div>"
      ],
      "text/plain": [
       "      Month  Year\n",
       "0  0.000000   0.0\n",
       "1  0.090909   0.0\n",
       "2  0.181818   0.0\n",
       "3  0.272727   0.0\n",
       "4  0.363636   0.0\n",
       "5  0.454545   0.0\n",
       "6  0.545455   0.0\n",
       "7  0.636364   0.0\n",
       "8  0.727273   0.0\n",
       "9  0.818182   0.0"
      ]
     },
     "execution_count": 248,
     "metadata": {},
     "output_type": "execute_result"
    }
   ],
   "source": [
    "data_mms=pd.DataFrame(data_mms, columns=['Month', 'Year'])\n",
    "data_mms.head(10)"
   ]
  },
  {
   "cell_type": "code",
   "execution_count": 249,
   "id": "585556b4-cca9-49d8-bdce-ba57280b20c8",
   "metadata": {},
   "outputs": [
    {
     "data": {
      "text/plain": [
       "Text(0.5, 1.0, 'data after max_min normalization')"
      ]
     },
     "execution_count": 249,
     "metadata": {},
     "output_type": "execute_result"
    },
    {
     "data": {
      "image/png": "[encoded data removed]",
      "text/plain": [
       "<Figure size 640x480 with 1 Axes>"
      ]
     },
     "metadata": {},
     "output_type": "display_data"
    }
   ],
   "source": [
    "data_mms.plot(kind='box')\n",
    "plt.title('data after max_min normalization')"
   ]
  },
  {
   "cell_type": "code",
   "execution_count": 251,
   "id": "7ad4738f-538e-4a0b-a114-6a6e26dc649f",
   "metadata": {},
   "outputs": [],
   "source": [
    "from sklearn.preprocessing import StandardScaler \n",
    "sc=StandardScaler()\n",
    "data_stand=sc.fit_transform(df)"
   ]
  },
  {
   "cell_type": "code",
   "execution_count": 254,
   "id": "50f6a5c1-fe77-4b5a-bb46-b97e2a487b5b",
   "metadata": {},
   "outputs": [
    {
     "data": {
      "text/html": [
       "<div>\n",
       "<style scoped>\n",
       "    .dataframe tbody tr th:only-of-type {\n",
       "        vertical-align: middle;\n",
       "    }\n",
       "\n",
       "    .dataframe tbody tr th {\n",
       "        vertical-align: top;\n",
       "    }\n",
       "\n",
       "    .dataframe thead th {\n",
       "        text-align: right;\n",
       "    }\n",
       "</style>\n",
       "<table border=\"1\" class=\"dataframe\">\n",
       "  <thead>\n",
       "    <tr style=\"text-align: right;\">\n",
       "      <th></th>\n",
       "      <th>Month</th>\n",
       "      <th>Year</th>\n",
       "    </tr>\n",
       "  </thead>\n",
       "  <tbody>\n",
       "    <tr>\n",
       "      <th>count</th>\n",
       "      <td>8.528000e+03</td>\n",
       "      <td>8.528000e+03</td>\n",
       "    </tr>\n",
       "    <tr>\n",
       "      <th>mean</th>\n",
       "      <td>-1.324769e-16</td>\n",
       "      <td>-2.196784e-14</td>\n",
       "    </tr>\n",
       "    <tr>\n",
       "      <th>std</th>\n",
       "      <td>1.000059e+00</td>\n",
       "      <td>1.000059e+00</td>\n",
       "    </tr>\n",
       "    <tr>\n",
       "      <th>min</th>\n",
       "      <td>-1.685512e+00</td>\n",
       "      <td>-1.798683e+00</td>\n",
       "    </tr>\n",
       "    <tr>\n",
       "      <th>25%</th>\n",
       "      <td>-7.512022e-01</td>\n",
       "      <td>-8.861534e-01</td>\n",
       "    </tr>\n",
       "    <tr>\n",
       "      <th>50%</th>\n",
       "      <td>-1.283289e-01</td>\n",
       "      <td>2.637648e-02</td>\n",
       "    </tr>\n",
       "    <tr>\n",
       "      <th>75%</th>\n",
       "      <td>8.059812e-01</td>\n",
       "      <td>9.389064e-01</td>\n",
       "    </tr>\n",
       "    <tr>\n",
       "      <th>max</th>\n",
       "      <td>1.740291e+00</td>\n",
       "      <td>1.623304e+00</td>\n",
       "    </tr>\n",
       "  </tbody>\n",
       "</table>\n",
       "</div>"
      ],
      "text/plain": [
       "              Month          Year\n",
       "count  8.528000e+03  8.528000e+03\n",
       "mean  -1.324769e-16 -2.196784e-14\n",
       "std    1.000059e+00  1.000059e+00\n",
       "min   -1.685512e+00 -1.798683e+00\n",
       "25%   -7.512022e-01 -8.861534e-01\n",
       "50%   -1.283289e-01  2.637648e-02\n",
       "75%    8.059812e-01  9.389064e-01\n",
       "max    1.740291e+00  1.623304e+00"
      ]
     },
     "execution_count": 254,
     "metadata": {},
     "output_type": "execute_result"
    }
   ],
   "source": [
    "data_stand=pd.DataFrame(data_stand, columns=['Month','Year'])\n",
    "data_stand.describe()"
   ]
  },
  {
   "cell_type": "code",
   "execution_count": 255,
   "id": "a47eba74-d0ee-4a62-a932-96bf351090a1",
   "metadata": {},
   "outputs": [
    {
     "data": {
      "text/plain": [
       "Text(0.5, 1.0, 'data after standardization')"
      ]
     },
     "execution_count": 255,
     "metadata": {},
     "output_type": "execute_result"
    },
    {
     "data": {
      "image/png": "[encoded data removed]",
      "text/plain": [
       "<Figure size 640x480 with 1 Axes>"
      ]
     },
     "metadata": {},
     "output_type": "display_data"
    }
   ],
   "source": [
    "data_stand.plot(kind='box')\n",
    "plt.title('data after standardization')"
   ]
  },
  {
   "cell_type": "code",
   "execution_count": 264,
   "id": "6b26565b-8b4f-4faf-ad83-ea7fc40c20d6",
   "metadata": {},
   "outputs": [],
   "source": [
    "data_df.to_csv('nhiet_do.csv')"
   ]
  }
 ],
 "metadata": {
  "kernelspec": {
   "display_name": "Python 3 (ipykernel)",
   "language": "python",
   "name": "python3"
  },
  "language_info": {
   "codemirror_mode": {
    "name": "ipython",
    "version": 3
   },
   "file_extension": ".py",
   "mimetype": "text/x-python",
   "name": "python",
   "nbconvert_exporter": "python",
   "pygments_lexer": "ipython3",
   "version": "3.9.18"
  }
 },
 "nbformat": 4,
 "nbformat_minor": 5
}
